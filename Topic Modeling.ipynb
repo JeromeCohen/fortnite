{
 "cells": [
  {
   "cell_type": "code",
   "execution_count": 1,
   "metadata": {},
   "outputs": [],
   "source": [
    "import pandas as pd \n",
    "import numpy as np\n",
    "\n",
    "from gensim.corpora import Dictionary\n",
    "from gensim.models import LdaModel\n",
    "\n",
    "from tqdm import tqdm\n",
    "tqdm.pandas()"
   ]
  },
  {
   "cell_type": "code",
   "execution_count": 2,
   "metadata": {},
   "outputs": [],
   "source": [
    "comments_df = pd.read_pickle('data/comments')\n",
    "posts_df = pd.read_pickle('data/posts')\n",
    "patches_df = pd.read_csv('data/patches.csv')"
   ]
  },
  {
   "cell_type": "markdown",
   "metadata": {},
   "source": [
    "### Latent Dirichlet Allocation"
   ]
  },
  {
   "cell_type": "markdown",
   "metadata": {},
   "source": [
    "#### Playground "
   ]
  },
  {
   "cell_type": "markdown",
   "metadata": {},
   "source": [
    "Off the shelf LDA taken from https://markroxor.github.io/gensim/static/notebooks/lda_training_tips.html"
   ]
  },
  {
   "cell_type": "code",
   "execution_count": 37,
   "metadata": {},
   "outputs": [],
   "source": [
    "dictionary = Dictionary(pubs_all)\n",
    "dictionary.filter_extremes(no_below=20, no_above=0.5)"
   ]
  },
  {
   "cell_type": "code",
   "execution_count": 38,
   "metadata": {},
   "outputs": [],
   "source": [
    "corpus = [dictionary.doc2bow(doc) for doc in pubs_all]"
   ]
  },
  {
   "cell_type": "code",
   "execution_count": 39,
   "metadata": {},
   "outputs": [
    {
     "name": "stdout",
     "output_type": "stream",
     "text": [
      "Number of unique tokens: 6024\n",
      "Number of documents: 62964\n"
     ]
    }
   ],
   "source": [
    "print('Number of unique tokens: %d' % len(dictionary))\n",
    "print('Number of documents: %d' % len(corpus))"
   ]
  },
  {
   "cell_type": "code",
   "execution_count": 40,
   "metadata": {},
   "outputs": [
    {
     "name": "stdout",
     "output_type": "stream",
     "text": [
      "CPU times: user 17min 4s, sys: 11.1 s, total: 17min 15s\n",
      "Wall time: 18min 17s\n"
     ]
    }
   ],
   "source": [
    "num_topics = 10\n",
    "chunksize = 2000\n",
    "passes = 20\n",
    "iterations = 400\n",
    "eval_every = 1  \n",
    "\n",
    "# Make a index to word dictionary.\n",
    "temp = dictionary[0]  # This is only to \"load\" the dictionary.\n",
    "id2word = dictionary.id2token\n",
    "\n",
    "%time model = LdaModel(corpus=corpus, id2word=id2word, chunksize=chunksize, \\\n",
    "                       alpha='auto', eta='auto', \\\n",
    "                       iterations=iterations, num_topics=num_topics, \\\n",
    "                       passes=passes, eval_every=eval_every)"
   ]
  },
  {
   "cell_type": "code",
   "execution_count": null,
   "metadata": {
    "collapsed": true
   },
   "outputs": [],
   "source": []
  },
  {
   "cell_type": "code",
   "execution_count": null,
   "metadata": {},
   "outputs": [],
   "source": []
  },
  {
   "cell_type": "code",
   "execution_count": 42,
   "metadata": {},
   "outputs": [
    {
     "name": "stdout",
     "output_type": "stream",
     "text": [
      "Average topic coherence: -2.8009.\n",
      "[([(0.06556945, 'game'),\n",
      "   (0.026569752, 'like'),\n",
      "   (0.02018021, 'people'),\n",
      "   (0.019785108, 'epic'),\n",
      "   (0.016988035, 'would'),\n",
      "   (0.01672669, 'fortnite'),\n",
      "   (0.014101612, 'know'),\n",
      "   (0.0132098235, 'make'),\n",
      "   (0.012737307, 'think'),\n",
      "   (0.012082423, 'really'),\n",
      "   (0.011860207, 'play'),\n",
      "   (0.011352798, 'player'),\n",
      "   (0.011336969, 'want'),\n",
      "   (0.011265897, 'time'),\n",
      "   (0.010313704, 'feel'),\n",
      "   (0.009345666, 'even'),\n",
      "   (0.009324148, 'good'),\n",
      "   (0.009105417, 'much'),\n",
      "   (0.009022037, 'playing'),\n",
      "   (0.008926455, 'please')],\n",
      "  -1.4832803749188408),\n",
      " ([(0.021356048, 'building'),\n",
      "   (0.016989546, 'time'),\n",
      "   (0.016485233, 'build'),\n",
      "   (0.015139148, 'someone'),\n",
      "   (0.011494506, 'around'),\n",
      "   (0.011236549, 'fight'),\n",
      "   (0.009733567, 'kill'),\n",
      "   (0.00914682, 'first'),\n",
      "   (0.008902653, 'place'),\n",
      "   (0.008782564, 'second'),\n",
      "   (0.00855592, 'wall'),\n",
      "   (0.008311509, 'take'),\n",
      "   (0.0073244763, 'circle'),\n",
      "   (0.0067527173, 'shot'),\n",
      "   (0.006670309, 'right'),\n",
      "   (0.0064336373, 'away'),\n",
      "   (0.0063664992, 'left'),\n",
      "   (0.006255441, 'find'),\n",
      "   (0.006139987, 'drop'),\n",
      "   (0.0060951584, 'high')],\n",
      "  -2.1154232974745075),\n",
      " ([(0.029981244, 'would'),\n",
      "   (0.025086844, 'shield'),\n",
      "   (0.021578573, 'rocket'),\n",
      "   (0.021329777, 'item'),\n",
      "   (0.020719144, 'weapon'),\n",
      "   (0.01752218, 'damage'),\n",
      "   (0.01710731, 'chest'),\n",
      "   (0.016847616, 'trap'),\n",
      "   (0.015942696, 'rifle'),\n",
      "   (0.015135166, 'ammo'),\n",
      "   (0.014298978, 'grenade'),\n",
      "   (0.013662135, 'launcher'),\n",
      "   (0.013103825, 'make'),\n",
      "   (0.012364812, 'material'),\n",
      "   (0.0122955935, 'health'),\n",
      "   (0.012269913, 'idea'),\n",
      "   (0.012057588, 'drop'),\n",
      "   (0.009761343, 'could'),\n",
      "   (0.008956906, 'inventory'),\n",
      "   (0.008702402, 'think')],\n",
      "  -2.1693242817834695),\n",
      " ([(0.070949785, 'shotgun'),\n",
      "   (0.049503107, 'pump'),\n",
      "   (0.04509842, 'weapon'),\n",
      "   (0.035836656, 'shot'),\n",
      "   (0.035662424, 'damage'),\n",
      "   (0.027424028, 'double'),\n",
      "   (0.025498847, 'sniper'),\n",
      "   (0.024488306, 'range'),\n",
      "   (0.014207351, 'bloom'),\n",
      "   (0.013363048, 'headshot'),\n",
      "   (0.012862609, 'bullet'),\n",
      "   (0.012759936, 'accuracy'),\n",
      "   (0.01206743, 'fire'),\n",
      "   (0.01088245, 'nerf'),\n",
      "   (0.01073664, 'pistol'),\n",
      "   (0.010676908, 'meta'),\n",
      "   (0.0101109715, 'close'),\n",
      "   (0.009390326, 'blue'),\n",
      "   (0.007810227, 'delay'),\n",
      "   (0.0074335174, 'burst')],\n",
      "  -2.3009334856285437),\n",
      " ([(0.091660984, 'skin'),\n",
      "   (0.042942785, 'battle'),\n",
      "   (0.03575153, 'season'),\n",
      "   (0.02755105, 'tier'),\n",
      "   (0.023838796, 'level'),\n",
      "   (0.016811032, 'back'),\n",
      "   (0.015743975, 'item'),\n",
      "   (0.014149584, 'v-bucks'),\n",
      "   (0.012972881, 'bought'),\n",
      "   (0.012892098, 'vbucks'),\n",
      "   (0.012685932, 'free'),\n",
      "   (0.012494447, 'would'),\n",
      "   (0.012047896, 'money'),\n",
      "   (0.012028598, 'cosmetic'),\n",
      "   (0.0102699725, 'shop'),\n",
      "   (0.009010549, 'refund'),\n",
      "   (0.008688503, 'reward'),\n",
      "   (0.008328761, 'character'),\n",
      "   (0.00813618, 'buying'),\n",
      "   (0.008062813, 'omega')],\n",
      "  -2.751437633916418),\n",
      " ([(0.04413717, 'console'),\n",
      "   (0.028191742, 'issue'),\n",
      "   (0.025019793, 'xbox'),\n",
      "   (0.023343587, 'player'),\n",
      "   (0.019593721, 'server'),\n",
      "   (0.01827042, 'play'),\n",
      "   (0.017603142, 'mouse'),\n",
      "   (0.015825428, 'button'),\n",
      "   (0.015115065, 'controller'),\n",
      "   (0.014977326, 'switch'),\n",
      "   (0.014182769, 'edit'),\n",
      "   (0.013574671, 'option'),\n",
      "   (0.013446809, 'using'),\n",
      "   (0.012634145, 'setting'),\n",
      "   (0.012259621, 'fortnite'),\n",
      "   (0.011121345, 'keyboard'),\n",
      "   (0.009890878, 'sensitivity'),\n",
      "   (0.0081182625, 'ninja'),\n",
      "   (0.008078351, 'screen'),\n",
      "   (0.007995931, 'streamer')],\n",
      "  -2.788806816516352),\n",
      " ([(0.044556987, 'squad'),\n",
      "   (0.04358332, 'mode'),\n",
      "   (0.0430607, 'kill'),\n",
      "   (0.040821385, 'team'),\n",
      "   (0.037737742, 'player'),\n",
      "   (0.032414623, 'solo'),\n",
      "   (0.027304087, 'match'),\n",
      "   (0.020767957, 'friend'),\n",
      "   (0.01958144, 'pubg'),\n",
      "   (0.01659401, 'royale'),\n",
      "   (0.016207824, 'teammate'),\n",
      "   (0.013367547, 'play'),\n",
      "   (0.009274463, 'winning'),\n",
      "   (0.008131501, 'system'),\n",
      "   (0.0077140857, 'killing'),\n",
      "   (0.0071055954, 'battle'),\n",
      "   (0.0069002206, 'fort'),\n",
      "   (0.006657457, 'random'),\n",
      "   (0.006371036, 'count'),\n",
      "   (0.0061310874, '50v50')],\n",
      "  -2.8691967846523316),\n",
      " ([(0.09023976, 'http'),\n",
      "   (0.02131968, 'post'),\n",
      "   (0.013230603, 'location'),\n",
      "   (0.0124554895, 'tilted'),\n",
      "   (0.011894332, 'loot'),\n",
      "   (0.010023309, 'thread'),\n",
      "   (0.009987007, 'patch'),\n",
      "   (0.009642944, 'event'),\n",
      "   (0.008500521, 'comment'),\n",
      "   (0.008254925, 'world'),\n",
      "   (0.007827732, 'link'),\n",
      "   (0.0077160527, 'tower'),\n",
      "   (0.007345827, 'lake'),\n",
      "   (0.0070528914, 'vote'),\n",
      "   (0.0068955272, 'video'),\n",
      "   (0.006622913, 'update'),\n",
      "   (0.0065074014, 'subreddit'),\n",
      "   (0.006406871, 'note'),\n",
      "   (0.0062464983, 'island'),\n",
      "   (0.0061315894, 'area')],\n",
      "  -3.1046544547565036),\n",
      " ([(0.06716946, 'account'),\n",
      "   (0.066099755, 'challenge'),\n",
      "   (0.038407788, 'help'),\n",
      "   (0.029818684, 'week'),\n",
      "   (0.016918994, 'banned'),\n",
      "   (0.016308662, 'epic'),\n",
      "   (0.014112886, 'complete'),\n",
      "   (0.012254845, 'question'),\n",
      "   (0.011505232, 'weekly'),\n",
      "   (0.011466432, 'answer'),\n",
      "   (0.011183552, 'email'),\n",
      "   (0.0111139985, 'anyone'),\n",
      "   (0.0109922765, 'friend'),\n",
      "   (0.0095595, 'hour'),\n",
      "   (0.008189848, 'message'),\n",
      "   (0.0080416575, 'tried'),\n",
      "   (0.007932643, 'umbrella'),\n",
      "   (0.007695695, 'llama'),\n",
      "   (0.0076770345, 'link'),\n",
      "   (0.007666502, 'still')],\n",
      "  -3.2346978661005945),\n",
      " ([(0.04413361, 'support'),\n",
      "   (0.0331841, 'twitch'),\n",
      "   (0.025745522, 'chat'),\n",
      "   (0.017537972, 'error'),\n",
      "   (0.017254507, 'voice'),\n",
      "   (0.015735436, 'prime'),\n",
      "   (0.015621331, 'body'),\n",
      "   (0.013854574, 'response'),\n",
      "   (0.013164271, 'request'),\n",
      "   (0.012645684, 'data'),\n",
      "   (0.011455358, 'service'),\n",
      "   (0.010640785, 'sent'),\n",
      "   (0.010628871, 'file'),\n",
      "   (0.010093865, 'moisty'),\n",
      "   (0.009728051, 'sprint'),\n",
      "   (0.008768715, 'concern'),\n",
      "   (0.008687605, 'source'),\n",
      "   (0.008123151, 'updated'),\n",
      "   (0.007898095, 'step'),\n",
      "   (0.0075979815, 'customization')],\n",
      "  -5.190954874556291)]\n"
     ]
    }
   ],
   "source": [
    "top_topics = model.top_topics(corpus)\n",
    "\n",
    "# Average topic coherence is the sum of topic coherences of all topics, divided by the number of topics.\n",
    "avg_topic_coherence = sum([t[1] for t in top_topics]) / num_topics\n",
    "print('Average topic coherence: %.4f.' % avg_topic_coherence)\n",
    "\n",
    "from pprint import pprint\n",
    "pprint(top_topics)"
   ]
  },
  {
   "cell_type": "markdown",
   "metadata": {},
   "source": [
    "#### Making Documents Longer"
   ]
  },
  {
   "cell_type": "code",
   "execution_count": 3,
   "metadata": {},
   "outputs": [],
   "source": [
    "# We combine the title and body of each post\n",
    "def add_lists(row, ngrams=False): \n",
    "    if ngrams: \n",
    "        title = 'title_ngrams'\n",
    "        selftext = 'selftext_ngrams'\n",
    "        combo = 'combo_post_ngrams'\n",
    "    else: \n",
    "        title = 'title_clean'\n",
    "        selftext = 'selftext_clean'\n",
    "        combo = 'combo_post'\n",
    "\n",
    "        \n",
    "    row[combo] = row[title] + row[selftext]\n",
    "    \n",
    "    return row"
   ]
  },
  {
   "cell_type": "code",
   "execution_count": 4,
   "metadata": {},
   "outputs": [],
   "source": [
    "posts_df = posts_df.apply(lambda x : add_lists(x), axis=1)"
   ]
  },
  {
   "cell_type": "code",
   "execution_count": 5,
   "metadata": {},
   "outputs": [],
   "source": [
    "posts_df = posts_df.apply(lambda x : add_lists(x, True), axis=1)"
   ]
  },
  {
   "cell_type": "markdown",
   "metadata": {},
   "source": [
    "We will now add all the comments that belong to a post to the post body. One problem with this approach is that the last and first words of comments will no be considered in the same context. Is this fair? "
   ]
  },
  {
   "cell_type": "code",
   "execution_count": 6,
   "metadata": {},
   "outputs": [],
   "source": [
    "#fix comment parent ids, we are losing the type of comment \n",
    "comments_df['parent_id'] = comments_df['parent_id'].apply(lambda x : x.split('_')[1])"
   ]
  },
  {
   "cell_type": "code",
   "execution_count": 7,
   "metadata": {},
   "outputs": [],
   "source": [
    "def comments2discussion(posts, comments, ngrams=False):\n",
    "    discussion = []\n",
    "    post_body = 'combo_post'\n",
    "    com_body = 'body_clean'\n",
    "    \n",
    "    if ngrams: \n",
    "        post_body = post_body + '_ngrams'\n",
    "        com_body = 'body_ngrams'\n",
    "        \n",
    "    for post_id in posts['id']:\n",
    "        body = []\n",
    "        try: \n",
    "            body.extend(posts[posts['id'] == post_id][post_body])\n",
    "            body = body[0]\n",
    "        except:\n",
    "            body.extend(posts[posts['id'] == post_id][post_body])\n",
    "        \n",
    "        children = comments[comments['parent_id'] == post_id]\n",
    "        \n",
    "        for child in children[com_body]:\n",
    "            body.extend(child)\n",
    "    \n",
    "        discussion.append(body)\n",
    "        \n",
    "    return discussion"
   ]
  },
  {
   "cell_type": "code",
   "execution_count": 8,
   "metadata": {},
   "outputs": [],
   "source": [
    "comp_df = posts_df[posts_df['subreddit'] == 'FortniteCompetitive']\n",
    "comp_all_ngrams = comments2discussion(comp_df, comments_df, True)\n",
    "comp_all = comments2discussion(comp_df, comments_df)"
   ]
  },
  {
   "cell_type": "code",
   "execution_count": 9,
   "metadata": {},
   "outputs": [],
   "source": [
    "pubs_df = posts_df[posts_df['subreddit'] == 'FortNiteBR']\n",
    "pubs_all_ngrams = comments2discussion(pubs_df, comments_df, True)\n",
    "pubs_all = comments2discussion(pubs_df, comments_df)"
   ]
  }
 ],
 "metadata": {
  "kernelspec": {
   "display_name": "Python 3",
   "language": "python",
   "name": "python3"
  },
  "language_info": {
   "codemirror_mode": {
    "name": "ipython",
    "version": 3
   },
   "file_extension": ".py",
   "mimetype": "text/x-python",
   "name": "python",
   "nbconvert_exporter": "python",
   "pygments_lexer": "ipython3",
   "version": "3.7.3"
  },
  "toc": {
   "base_numbering": 1,
   "nav_menu": {},
   "number_sections": true,
   "sideBar": true,
   "skip_h1_title": false,
   "title_cell": "Table of Contents",
   "title_sidebar": "Contents",
   "toc_cell": false,
   "toc_position": {},
   "toc_section_display": true,
   "toc_window_display": false
  }
 },
 "nbformat": 4,
 "nbformat_minor": 2
}
