{
 "cells": [
  {
   "cell_type": "code",
   "execution_count": 17,
   "metadata": {},
   "outputs": [],
   "source": [
    "import json \n",
    "import requests \n",
    "import pandas as pd"
   ]
  },
  {
   "cell_type": "code",
   "execution_count": 59,
   "metadata": {},
   "outputs": [],
   "source": [
    "SUBREDDIT = 'FortNiteBR'\n",
    "url = 'https://api.pushshift.io/reddit/search/submission/'\n",
    "columns = ['author', 'created_utc', 'id', 'num_comments', 'permalink', 'score', 'title', 'selftext', 'subreddit']\n",
    "count = 0"
   ]
  },
  {
   "cell_type": "code",
   "execution_count": 53,
   "metadata": {},
   "outputs": [],
   "source": [
    "# Uncomment if starting from the beginning\n",
    "# checkpoint = {'date' : 1561584036, \n",
    "#               'count': count}\n",
    "\n",
    "# with open('checkpoint.txt', 'w') as outfile:\n",
    "#     json.dump(checkpoint, outfile)"
   ]
  },
  {
   "cell_type": "code",
   "execution_count": 55,
   "metadata": {},
   "outputs": [],
   "source": [
    "with open('checkpoint.txt') as file: \n",
    "    checkpoint = json.load(file)"
   ]
  },
  {
   "cell_type": "code",
   "execution_count": 56,
   "metadata": {},
   "outputs": [],
   "source": [
    "params={'size':'500', \n",
    "        'subreddit': SUBREDDIT, \n",
    "        'num_comments':'>10', \n",
    "        'before' : checkpoint['date']}"
   ]
  },
  {
   "cell_type": "code",
   "execution_count": 64,
   "metadata": {},
   "outputs": [],
   "source": [
    "def scrape(params):\n",
    "    response = [1]\n",
    "    count = checkpoint['count']\n",
    "    \n",
    "    while len(response) > 0:\n",
    "        response = requests.get(url, params=params).json()\n",
    "        df = pd.DataFrame(response['data'])\n",
    "        df = df[columns]\n",
    "        \n",
    "        filename = SUBREDDIT + str(count)\n",
    "        path = '\\data\\\\' + filename \n",
    "        df.to_csv(path)\n",
    "        \n",
    "        print('File named: ' + filename + ' saved')\n",
    "        \n",
    "        count = count + 1\n",
    "        checkpoint['count'] = count\n",
    "        \n",
    "        checkpoint['date'] = response['data'][499]['created_utc']\n",
    "        params['before'] = checkpoint['date']\n",
    "        \n",
    "        with open('checkpoint.txt', 'w') as outfile:\n",
    "            json.dump(checkpoint, outfile)"
   ]
  },
  {
   "cell_type": "code",
   "execution_count": null,
   "metadata": {},
   "outputs": [
    {
     "name": "stdout",
     "output_type": "stream",
     "text": [
      "File named: FortNiteBR10 saved\n",
      "File named: FortNiteBR11 saved\n",
      "File named: FortNiteBR12 saved\n",
      "File named: FortNiteBR13 saved\n",
      "File named: FortNiteBR14 saved\n",
      "File named: FortNiteBR15 saved\n",
      "File named: FortNiteBR16 saved\n",
      "File named: FortNiteBR17 saved\n",
      "File named: FortNiteBR18 saved\n",
      "File named: FortNiteBR19 saved\n",
      "File named: FortNiteBR20 saved\n",
      "File named: FortNiteBR21 saved\n",
      "File named: FortNiteBR22 saved\n",
      "File named: FortNiteBR23 saved\n",
      "File named: FortNiteBR24 saved\n",
      "File named: FortNiteBR25 saved\n",
      "File named: FortNiteBR26 saved\n",
      "File named: FortNiteBR27 saved\n",
      "File named: FortNiteBR28 saved\n",
      "File named: FortNiteBR29 saved\n",
      "File named: FortNiteBR30 saved\n",
      "File named: FortNiteBR31 saved\n",
      "File named: FortNiteBR32 saved\n",
      "File named: FortNiteBR33 saved\n",
      "File named: FortNiteBR34 saved\n",
      "File named: FortNiteBR35 saved\n",
      "File named: FortNiteBR36 saved\n",
      "File named: FortNiteBR37 saved\n",
      "File named: FortNiteBR38 saved\n",
      "File named: FortNiteBR39 saved\n",
      "File named: FortNiteBR40 saved\n",
      "File named: FortNiteBR41 saved\n",
      "File named: FortNiteBR42 saved\n",
      "File named: FortNiteBR43 saved\n",
      "File named: FortNiteBR44 saved\n",
      "File named: FortNiteBR45 saved\n",
      "File named: FortNiteBR46 saved\n",
      "File named: FortNiteBR47 saved\n"
     ]
    }
   ],
   "source": [
    "scrape(params)"
   ]
  },
  {
   "cell_type": "code",
   "execution_count": null,
   "metadata": {},
   "outputs": [],
   "source": []
  }
 ],
 "metadata": {
  "kernelspec": {
   "display_name": "Python 3",
   "language": "python",
   "name": "python3"
  },
  "language_info": {
   "codemirror_mode": {
    "name": "ipython",
    "version": 3
   },
   "file_extension": ".py",
   "mimetype": "text/x-python",
   "name": "python",
   "nbconvert_exporter": "python",
   "pygments_lexer": "ipython3",
   "version": "3.7.3"
  },
  "toc": {
   "base_numbering": 1,
   "nav_menu": {},
   "number_sections": true,
   "sideBar": true,
   "skip_h1_title": false,
   "title_cell": "Table of Contents",
   "title_sidebar": "Contents",
   "toc_cell": false,
   "toc_position": {},
   "toc_section_display": true,
   "toc_window_display": false
  }
 },
 "nbformat": 4,
 "nbformat_minor": 2
}
